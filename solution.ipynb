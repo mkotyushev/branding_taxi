{
  "nbformat": 4,
  "nbformat_minor": 0,
  "metadata": {
    "colab": {
      "name": "solution.ipynb",
      "provenance": [],
      "collapsed_sections": []
    },
    "kernelspec": {
      "name": "python3",
      "display_name": "Python 3"
    },
    "widgets": {
      "application/vnd.jupyter.widget-state+json": {
        "3e8f952f1bb24ff2a26f97bcdda63835": {
          "model_module": "@jupyter-widgets/controls",
          "model_name": "HBoxModel",
          "state": {
            "_view_name": "HBoxView",
            "_dom_classes": [],
            "_model_name": "HBoxModel",
            "_view_module": "@jupyter-widgets/controls",
            "_model_module_version": "1.5.0",
            "_view_count": null,
            "_view_module_version": "1.5.0",
            "box_style": "",
            "layout": "IPY_MODEL_ea575e8efcd24f15a52e9747cb0ba75f",
            "_model_module": "@jupyter-widgets/controls",
            "children": [
              "IPY_MODEL_29d7b416ccfb40c1acb456228cdbd6bc",
              "IPY_MODEL_363901e39f6142a7a14eff6c887eb86f"
            ]
          }
        },
        "ea575e8efcd24f15a52e9747cb0ba75f": {
          "model_module": "@jupyter-widgets/base",
          "model_name": "LayoutModel",
          "state": {
            "_view_name": "LayoutView",
            "grid_template_rows": null,
            "right": null,
            "justify_content": null,
            "_view_module": "@jupyter-widgets/base",
            "overflow": null,
            "_model_module_version": "1.2.0",
            "_view_count": null,
            "flex_flow": null,
            "width": null,
            "min_width": null,
            "border": null,
            "align_items": null,
            "bottom": null,
            "_model_module": "@jupyter-widgets/base",
            "top": null,
            "grid_column": null,
            "overflow_y": null,
            "overflow_x": null,
            "grid_auto_flow": null,
            "grid_area": null,
            "grid_template_columns": null,
            "flex": null,
            "_model_name": "LayoutModel",
            "justify_items": null,
            "grid_row": null,
            "max_height": null,
            "align_content": null,
            "visibility": null,
            "align_self": null,
            "height": null,
            "min_height": null,
            "padding": null,
            "grid_auto_rows": null,
            "grid_gap": null,
            "max_width": null,
            "order": null,
            "_view_module_version": "1.2.0",
            "grid_template_areas": null,
            "object_position": null,
            "object_fit": null,
            "grid_auto_columns": null,
            "margin": null,
            "display": null,
            "left": null
          }
        },
        "29d7b416ccfb40c1acb456228cdbd6bc": {
          "model_module": "@jupyter-widgets/controls",
          "model_name": "FloatProgressModel",
          "state": {
            "_view_name": "ProgressView",
            "style": "IPY_MODEL_90e44c3a7e694ec99fafeb3ccfcc82ec",
            "_dom_classes": [],
            "description": "100%",
            "_model_name": "FloatProgressModel",
            "bar_style": "success",
            "max": 100,
            "_view_module": "@jupyter-widgets/controls",
            "_model_module_version": "1.5.0",
            "value": 100,
            "_view_count": null,
            "_view_module_version": "1.5.0",
            "orientation": "horizontal",
            "min": 0,
            "description_tooltip": null,
            "_model_module": "@jupyter-widgets/controls",
            "layout": "IPY_MODEL_9ba56be60b684812b4a3ea0594cb73fd"
          }
        },
        "363901e39f6142a7a14eff6c887eb86f": {
          "model_module": "@jupyter-widgets/controls",
          "model_name": "HTMLModel",
          "state": {
            "_view_name": "HTMLView",
            "style": "IPY_MODEL_12d4ca43476a4ad3bbf187944074066a",
            "_dom_classes": [],
            "description": "",
            "_model_name": "HTMLModel",
            "placeholder": "​",
            "_view_module": "@jupyter-widgets/controls",
            "_model_module_version": "1.5.0",
            "value": " 100/100 [00:07&lt;00:00, 14.26it/s]",
            "_view_count": null,
            "_view_module_version": "1.5.0",
            "description_tooltip": null,
            "_model_module": "@jupyter-widgets/controls",
            "layout": "IPY_MODEL_d169a2bb0f9742179f4103930760dbb6"
          }
        },
        "90e44c3a7e694ec99fafeb3ccfcc82ec": {
          "model_module": "@jupyter-widgets/controls",
          "model_name": "ProgressStyleModel",
          "state": {
            "_view_name": "StyleView",
            "_model_name": "ProgressStyleModel",
            "description_width": "initial",
            "_view_module": "@jupyter-widgets/base",
            "_model_module_version": "1.5.0",
            "_view_count": null,
            "_view_module_version": "1.2.0",
            "bar_color": null,
            "_model_module": "@jupyter-widgets/controls"
          }
        },
        "9ba56be60b684812b4a3ea0594cb73fd": {
          "model_module": "@jupyter-widgets/base",
          "model_name": "LayoutModel",
          "state": {
            "_view_name": "LayoutView",
            "grid_template_rows": null,
            "right": null,
            "justify_content": null,
            "_view_module": "@jupyter-widgets/base",
            "overflow": null,
            "_model_module_version": "1.2.0",
            "_view_count": null,
            "flex_flow": null,
            "width": null,
            "min_width": null,
            "border": null,
            "align_items": null,
            "bottom": null,
            "_model_module": "@jupyter-widgets/base",
            "top": null,
            "grid_column": null,
            "overflow_y": null,
            "overflow_x": null,
            "grid_auto_flow": null,
            "grid_area": null,
            "grid_template_columns": null,
            "flex": null,
            "_model_name": "LayoutModel",
            "justify_items": null,
            "grid_row": null,
            "max_height": null,
            "align_content": null,
            "visibility": null,
            "align_self": null,
            "height": null,
            "min_height": null,
            "padding": null,
            "grid_auto_rows": null,
            "grid_gap": null,
            "max_width": null,
            "order": null,
            "_view_module_version": "1.2.0",
            "grid_template_areas": null,
            "object_position": null,
            "object_fit": null,
            "grid_auto_columns": null,
            "margin": null,
            "display": null,
            "left": null
          }
        },
        "12d4ca43476a4ad3bbf187944074066a": {
          "model_module": "@jupyter-widgets/controls",
          "model_name": "DescriptionStyleModel",
          "state": {
            "_view_name": "StyleView",
            "_model_name": "DescriptionStyleModel",
            "description_width": "",
            "_view_module": "@jupyter-widgets/base",
            "_model_module_version": "1.5.0",
            "_view_count": null,
            "_view_module_version": "1.2.0",
            "_model_module": "@jupyter-widgets/controls"
          }
        },
        "d169a2bb0f9742179f4103930760dbb6": {
          "model_module": "@jupyter-widgets/base",
          "model_name": "LayoutModel",
          "state": {
            "_view_name": "LayoutView",
            "grid_template_rows": null,
            "right": null,
            "justify_content": null,
            "_view_module": "@jupyter-widgets/base",
            "overflow": null,
            "_model_module_version": "1.2.0",
            "_view_count": null,
            "flex_flow": null,
            "width": null,
            "min_width": null,
            "border": null,
            "align_items": null,
            "bottom": null,
            "_model_module": "@jupyter-widgets/base",
            "top": null,
            "grid_column": null,
            "overflow_y": null,
            "overflow_x": null,
            "grid_auto_flow": null,
            "grid_area": null,
            "grid_template_columns": null,
            "flex": null,
            "_model_name": "LayoutModel",
            "justify_items": null,
            "grid_row": null,
            "max_height": null,
            "align_content": null,
            "visibility": null,
            "align_self": null,
            "height": null,
            "min_height": null,
            "padding": null,
            "grid_auto_rows": null,
            "grid_gap": null,
            "max_width": null,
            "order": null,
            "_view_module_version": "1.2.0",
            "grid_template_areas": null,
            "object_position": null,
            "object_fit": null,
            "grid_auto_columns": null,
            "margin": null,
            "display": null,
            "left": null
          }
        }
      }
    }
  },
  "cells": [
    {
      "cell_type": "markdown",
      "metadata": {
        "id": "u27VSvAVS9yd"
      },
      "source": [
        "Ментор проекта - Никита Селезнев (@Nikita в слаке)\n",
        "\n",
        "Один из главных маркетинговых инструментов Яндекс.GO - брендирование машин. Его можно оптимизировать с точки зрения разных метрик: расходов, заметности, восприятия качества сервиса у пользователей и так далее. Например, можно влиять на эти метрики, разрешая или запрещая той или иной модели авто быть брендированной. Вокруг ответа на вопрос, какие модели стоит брендировать, и построен наш аналитический кейс. Мы, решим на какие метрики будем смотреть, проанализируем, как они меняются в зависимости от модельного ряда брендированных машин, сделаем допущения там, где посчитать честно не получается, и в результате получим data-driven подход к брендированию машин.\n",
        "\n",
        "Условие и все файлы вот тут: https://yadi.sk/d/gg5BNLZ4yPzvEg?w=1"
      ]
    },
    {
      "cell_type": "markdown",
      "metadata": {
        "id": "I4HmYHeXgRnr"
      },
      "source": [
        "# Чтение данных"
      ]
    },
    {
      "cell_type": "code",
      "metadata": {
        "id": "GIskxX6fTtlf",
        "outputId": "995954fb-df10-4d62-bf1e-b8a39342041c",
        "colab": {
          "base_uri": "https://localhost:8080/"
        }
      },
      "source": [
        "%cd /content/drive/My\\ Drive/shad/pds/branding\n",
        "!ls"
      ],
      "execution_count": 1,
      "outputs": [
        {
          "output_type": "stream",
          "text": [
            "/content/drive/My Drive/shad/pds/branding\n",
            "data  eda_qa.ipynb  __pycache__  requirements.txt  utils.py\n"
          ],
          "name": "stdout"
        }
      ]
    },
    {
      "cell_type": "code",
      "metadata": {
        "id": "rpIkLpUSS84d"
      },
      "source": [
        "import pandas as pd\n",
        "\n",
        "from utils import calc_stats_models\n",
        "from utils import clf_by_defect_ratio\n",
        "from utils import compare_clf_to_baseline\n",
        "from utils import gridsearch_defect_ratio_threshold\n",
        "from utils import plot_defect_rate_hist\n",
        "from utils import plot_shares\n",
        "from utils import plot_defect_ratios\n",
        "from utils import plot_stats"
      ],
      "execution_count": 2,
      "outputs": []
    },
    {
      "cell_type": "code",
      "metadata": {
        "id": "kS7pl29tSyC0",
        "outputId": "066ff32d-533e-4080-95a2-717a68573833",
        "colab": {
          "base_uri": "https://localhost:8080/"
        }
      },
      "source": [
        "!ls data"
      ],
      "execution_count": 3,
      "outputs": [
        {
          "output_type": "stream",
          "text": [
            "case_presentation.pptx\tcolumn_breakdown.txt  models.xlsx  partners.xlsx\n"
          ],
          "name": "stdout"
        }
      ]
    },
    {
      "cell_type": "code",
      "metadata": {
        "id": "XImf5ytSW8lh",
        "outputId": "476dfefc-d554-4608-883a-b03eea32507a",
        "colab": {
          "base_uri": "https://localhost:8080/"
        }
      },
      "source": [
        "with open('./data/column_breakdown.txt', 'r') as f:\n",
        "    print(f.read())"
      ],
      "execution_count": 4,
      "outputs": [
        {
          "output_type": "stream",
          "text": [
            "Расшифровка колонок\n",
            "\n",
            "models.xlsx\n",
            "\n",
            "model - модель авто, например, BMW m3\n",
            "year - год выпуска авто, например, 2020\n",
            "can_be_branded - можно ли брендировать данную модель данного года в действующем классификаторе\n",
            "car_cnt - количество машин данной модели и года в сервисе\n",
            "car_sticker_cnt - количество оклеенных машин данной модели и года в сервисе\n",
            "trips_success_cnt - количество успешных поездок, которые совершили пользователи на данной модели данного года авто за период анализа\n",
            "trips_cancel_cnt - количество отмененных поездок, которые совершили пользователи на данной модели данного года авто за период анализа\n",
            "trips_defect_cnt - количество дефектных поездок (с оценкой меньше 4 из 5), которые совершили пользователи на данной модели данного года авто за период анализа\n",
            "trips_rated_cnt - количество оцененных поездок, которые совершили пользователи на данной модели данного года авто за период анализа\n",
            "bad_car_model_tag_cnt - количество тегов \"не доволен моделью машины\", которые пользователи поставили при отмене поездки\n",
            "dissapointed_car_model_tag_cnt - количество тегов \"не доволен моделью машины\", которые пользователи поставили после успешной поездки при условии оценки ниже 5\n",
            "\n",
            "\n",
            "partners.xlsx\n",
            "\n",
            "partner - партнер сервиса, может быть как водителем, так и таксопарком\n",
            "model - модель авто, например, BMW m3\n",
            "year - год выпуска авто, например, 2020\n",
            "car_cnt - количество машин данной модели и года у данного партнера\n",
            "car_sticker_cnt - количество окленных машин данной модели и года у данного партнера\n"
          ],
          "name": "stdout"
        }
      ]
    },
    {
      "cell_type": "code",
      "metadata": {
        "id": "gajk8LYoXH6K"
      },
      "source": [
        "df_models = pd.read_excel('./data/models.xlsx', index_col=0)\n",
        "df_partners = pd.read_excel('./data/partners.xlsx', index_col=0)"
      ],
      "execution_count": 5,
      "outputs": []
    },
    {
      "cell_type": "code",
      "metadata": {
        "id": "Glc8OqJTXZBR",
        "outputId": "75a48582-8f5d-4be4-e482-d3c3c577f492",
        "colab": {
          "base_uri": "https://localhost:8080/",
          "height": 222
        }
      },
      "source": [
        "df_models.head()"
      ],
      "execution_count": 6,
      "outputs": [
        {
          "output_type": "execute_result",
          "data": {
            "text/html": [
              "<div>\n",
              "<style scoped>\n",
              "    .dataframe tbody tr th:only-of-type {\n",
              "        vertical-align: middle;\n",
              "    }\n",
              "\n",
              "    .dataframe tbody tr th {\n",
              "        vertical-align: top;\n",
              "    }\n",
              "\n",
              "    .dataframe thead th {\n",
              "        text-align: right;\n",
              "    }\n",
              "</style>\n",
              "<table border=\"1\" class=\"dataframe\">\n",
              "  <thead>\n",
              "    <tr style=\"text-align: right;\">\n",
              "      <th></th>\n",
              "      <th>model</th>\n",
              "      <th>year</th>\n",
              "      <th>can_be_branded</th>\n",
              "      <th>car_cnt</th>\n",
              "      <th>car_sticker_cnt</th>\n",
              "      <th>trips_success_cnt</th>\n",
              "      <th>trips_cancel_cnt</th>\n",
              "      <th>trips_defect_cnt</th>\n",
              "      <th>trips_rated_cnt</th>\n",
              "      <th>bad_car_model_tag_cnt</th>\n",
              "      <th>dissapointed_car_model_tag_cnt</th>\n",
              "    </tr>\n",
              "  </thead>\n",
              "  <tbody>\n",
              "    <tr>\n",
              "      <th>0</th>\n",
              "      <td>model_207</td>\n",
              "      <td>year_20</td>\n",
              "      <td>False</td>\n",
              "      <td>1</td>\n",
              "      <td>0</td>\n",
              "      <td>12</td>\n",
              "      <td>3</td>\n",
              "      <td>0</td>\n",
              "      <td>5</td>\n",
              "      <td>0</td>\n",
              "      <td>0</td>\n",
              "    </tr>\n",
              "    <tr>\n",
              "      <th>1</th>\n",
              "      <td>model_482</td>\n",
              "      <td>year_19</td>\n",
              "      <td>False</td>\n",
              "      <td>1</td>\n",
              "      <td>0</td>\n",
              "      <td>12</td>\n",
              "      <td>4</td>\n",
              "      <td>0</td>\n",
              "      <td>4</td>\n",
              "      <td>0</td>\n",
              "      <td>0</td>\n",
              "    </tr>\n",
              "    <tr>\n",
              "      <th>2</th>\n",
              "      <td>model_499</td>\n",
              "      <td>year_7</td>\n",
              "      <td>False</td>\n",
              "      <td>1</td>\n",
              "      <td>0</td>\n",
              "      <td>46</td>\n",
              "      <td>1</td>\n",
              "      <td>0</td>\n",
              "      <td>14</td>\n",
              "      <td>0</td>\n",
              "      <td>0</td>\n",
              "    </tr>\n",
              "    <tr>\n",
              "      <th>3</th>\n",
              "      <td>model_499</td>\n",
              "      <td>year_8</td>\n",
              "      <td>False</td>\n",
              "      <td>3</td>\n",
              "      <td>0</td>\n",
              "      <td>1592</td>\n",
              "      <td>198</td>\n",
              "      <td>10</td>\n",
              "      <td>510</td>\n",
              "      <td>5</td>\n",
              "      <td>1</td>\n",
              "    </tr>\n",
              "    <tr>\n",
              "      <th>4</th>\n",
              "      <td>model_499</td>\n",
              "      <td>year_9</td>\n",
              "      <td>False</td>\n",
              "      <td>2</td>\n",
              "      <td>0</td>\n",
              "      <td>49</td>\n",
              "      <td>8</td>\n",
              "      <td>0</td>\n",
              "      <td>14</td>\n",
              "      <td>0</td>\n",
              "      <td>0</td>\n",
              "    </tr>\n",
              "  </tbody>\n",
              "</table>\n",
              "</div>"
            ],
            "text/plain": [
              "       model     year  ...  bad_car_model_tag_cnt  dissapointed_car_model_tag_cnt\n",
              "0  model_207  year_20  ...                      0                               0\n",
              "1  model_482  year_19  ...                      0                               0\n",
              "2  model_499   year_7  ...                      0                               0\n",
              "3  model_499   year_8  ...                      5                               1\n",
              "4  model_499   year_9  ...                      0                               0\n",
              "\n",
              "[5 rows x 11 columns]"
            ]
          },
          "metadata": {
            "tags": []
          },
          "execution_count": 6
        }
      ]
    },
    {
      "cell_type": "code",
      "metadata": {
        "id": "F2mLEOLu44dK",
        "outputId": "66f8a361-f975-461c-f668-b6829dce79e8",
        "colab": {
          "base_uri": "https://localhost:8080/",
          "height": 202
        }
      },
      "source": [
        "df_partners.head()"
      ],
      "execution_count": 7,
      "outputs": [
        {
          "output_type": "execute_result",
          "data": {
            "text/html": [
              "<div>\n",
              "<style scoped>\n",
              "    .dataframe tbody tr th:only-of-type {\n",
              "        vertical-align: middle;\n",
              "    }\n",
              "\n",
              "    .dataframe tbody tr th {\n",
              "        vertical-align: top;\n",
              "    }\n",
              "\n",
              "    .dataframe thead th {\n",
              "        text-align: right;\n",
              "    }\n",
              "</style>\n",
              "<table border=\"1\" class=\"dataframe\">\n",
              "  <thead>\n",
              "    <tr style=\"text-align: right;\">\n",
              "      <th></th>\n",
              "      <th>partner</th>\n",
              "      <th>model</th>\n",
              "      <th>year</th>\n",
              "      <th>car_cnt</th>\n",
              "      <th>car_sticker_cnt</th>\n",
              "    </tr>\n",
              "  </thead>\n",
              "  <tbody>\n",
              "    <tr>\n",
              "      <th>0</th>\n",
              "      <td>partner_6613</td>\n",
              "      <td>model_147</td>\n",
              "      <td>year_30</td>\n",
              "      <td>1</td>\n",
              "      <td>0</td>\n",
              "    </tr>\n",
              "    <tr>\n",
              "      <th>1</th>\n",
              "      <td>partner_7944</td>\n",
              "      <td>model_615</td>\n",
              "      <td>year_26</td>\n",
              "      <td>1</td>\n",
              "      <td>1</td>\n",
              "    </tr>\n",
              "    <tr>\n",
              "      <th>2</th>\n",
              "      <td>partner_7944</td>\n",
              "      <td>model_576</td>\n",
              "      <td>year_29</td>\n",
              "      <td>1</td>\n",
              "      <td>1</td>\n",
              "    </tr>\n",
              "    <tr>\n",
              "      <th>3</th>\n",
              "      <td>partner_7944</td>\n",
              "      <td>model_576</td>\n",
              "      <td>year_30</td>\n",
              "      <td>1</td>\n",
              "      <td>0</td>\n",
              "    </tr>\n",
              "    <tr>\n",
              "      <th>4</th>\n",
              "      <td>partner_7944</td>\n",
              "      <td>model_362</td>\n",
              "      <td>year_23</td>\n",
              "      <td>1</td>\n",
              "      <td>0</td>\n",
              "    </tr>\n",
              "  </tbody>\n",
              "</table>\n",
              "</div>"
            ],
            "text/plain": [
              "        partner      model     year  car_cnt  car_sticker_cnt\n",
              "0  partner_6613  model_147  year_30        1                0\n",
              "1  partner_7944  model_615  year_26        1                1\n",
              "2  partner_7944  model_576  year_29        1                1\n",
              "3  partner_7944  model_576  year_30        1                0\n",
              "4  partner_7944  model_362  year_23        1                0"
            ]
          },
          "metadata": {
            "tags": []
          },
          "execution_count": 7
        }
      ]
    },
    {
      "cell_type": "markdown",
      "metadata": {
        "id": "-UItWJgP3MgH"
      },
      "source": [
        "### Странности данных"
      ]
    },
    {
      "cell_type": "markdown",
      "metadata": {
        "id": "MCIs5C9_3fn6"
      },
      "source": [
        "- некоторые пары модель-год имеют ненулевое число обклеенных машин при `can_be_branded == False` в таблице `models`. Видимо, это локальные исключения из правила классификатора / легаси, оставшееся от старой версии, будем игнорировать."
      ]
    },
    {
      "cell_type": "code",
      "metadata": {
        "id": "I5zltIfZ3ET6",
        "outputId": "231782a6-106d-4602-aa93-893f18e51204",
        "colab": {
          "base_uri": "https://localhost:8080/"
        }
      },
      "source": [
        "df_models['car_sticker_cnt'][~df_models['can_be_branded']].sum()"
      ],
      "execution_count": 8,
      "outputs": [
        {
          "output_type": "execute_result",
          "data": {
            "text/plain": [
              "293"
            ]
          },
          "metadata": {
            "tags": []
          },
          "execution_count": 8
        }
      ]
    },
    {
      "cell_type": "code",
      "metadata": {
        "id": "F7Sh3DlS4Gz3",
        "outputId": "8824123e-1db7-4920-adfc-62363e07f021",
        "colab": {
          "base_uri": "https://localhost:8080/",
          "height": 222
        }
      },
      "source": [
        "df_models[(df_models['car_sticker_cnt'] != 0) & (~df_models['can_be_branded'])].head()"
      ],
      "execution_count": 9,
      "outputs": [
        {
          "output_type": "execute_result",
          "data": {
            "text/html": [
              "<div>\n",
              "<style scoped>\n",
              "    .dataframe tbody tr th:only-of-type {\n",
              "        vertical-align: middle;\n",
              "    }\n",
              "\n",
              "    .dataframe tbody tr th {\n",
              "        vertical-align: top;\n",
              "    }\n",
              "\n",
              "    .dataframe thead th {\n",
              "        text-align: right;\n",
              "    }\n",
              "</style>\n",
              "<table border=\"1\" class=\"dataframe\">\n",
              "  <thead>\n",
              "    <tr style=\"text-align: right;\">\n",
              "      <th></th>\n",
              "      <th>model</th>\n",
              "      <th>year</th>\n",
              "      <th>can_be_branded</th>\n",
              "      <th>car_cnt</th>\n",
              "      <th>car_sticker_cnt</th>\n",
              "      <th>trips_success_cnt</th>\n",
              "      <th>trips_cancel_cnt</th>\n",
              "      <th>trips_defect_cnt</th>\n",
              "      <th>trips_rated_cnt</th>\n",
              "      <th>bad_car_model_tag_cnt</th>\n",
              "      <th>dissapointed_car_model_tag_cnt</th>\n",
              "    </tr>\n",
              "  </thead>\n",
              "  <tbody>\n",
              "    <tr>\n",
              "      <th>85</th>\n",
              "      <td>model_544</td>\n",
              "      <td>year_28</td>\n",
              "      <td>False</td>\n",
              "      <td>7</td>\n",
              "      <td>2</td>\n",
              "      <td>2403</td>\n",
              "      <td>298</td>\n",
              "      <td>22</td>\n",
              "      <td>814</td>\n",
              "      <td>5</td>\n",
              "      <td>4</td>\n",
              "    </tr>\n",
              "    <tr>\n",
              "      <th>86</th>\n",
              "      <td>model_544</td>\n",
              "      <td>year_29</td>\n",
              "      <td>False</td>\n",
              "      <td>8</td>\n",
              "      <td>1</td>\n",
              "      <td>2001</td>\n",
              "      <td>289</td>\n",
              "      <td>23</td>\n",
              "      <td>655</td>\n",
              "      <td>1</td>\n",
              "      <td>2</td>\n",
              "    </tr>\n",
              "    <tr>\n",
              "      <th>93</th>\n",
              "      <td>model_25</td>\n",
              "      <td>year_24</td>\n",
              "      <td>False</td>\n",
              "      <td>9</td>\n",
              "      <td>1</td>\n",
              "      <td>2583</td>\n",
              "      <td>417</td>\n",
              "      <td>26</td>\n",
              "      <td>801</td>\n",
              "      <td>8</td>\n",
              "      <td>2</td>\n",
              "    </tr>\n",
              "    <tr>\n",
              "      <th>95</th>\n",
              "      <td>model_423</td>\n",
              "      <td>year_28</td>\n",
              "      <td>False</td>\n",
              "      <td>8</td>\n",
              "      <td>1</td>\n",
              "      <td>1976</td>\n",
              "      <td>196</td>\n",
              "      <td>15</td>\n",
              "      <td>603</td>\n",
              "      <td>4</td>\n",
              "      <td>1</td>\n",
              "    </tr>\n",
              "    <tr>\n",
              "      <th>96</th>\n",
              "      <td>model_423</td>\n",
              "      <td>year_29</td>\n",
              "      <td>False</td>\n",
              "      <td>12</td>\n",
              "      <td>1</td>\n",
              "      <td>1541</td>\n",
              "      <td>251</td>\n",
              "      <td>14</td>\n",
              "      <td>480</td>\n",
              "      <td>3</td>\n",
              "      <td>2</td>\n",
              "    </tr>\n",
              "  </tbody>\n",
              "</table>\n",
              "</div>"
            ],
            "text/plain": [
              "        model     year  ...  bad_car_model_tag_cnt  dissapointed_car_model_tag_cnt\n",
              "85  model_544  year_28  ...                      5                               4\n",
              "86  model_544  year_29  ...                      1                               2\n",
              "93   model_25  year_24  ...                      8                               2\n",
              "95  model_423  year_28  ...                      4                               1\n",
              "96  model_423  year_29  ...                      3                               2\n",
              "\n",
              "[5 rows x 11 columns]"
            ]
          },
          "metadata": {
            "tags": []
          },
          "execution_count": 9
        }
      ]
    },
    {
      "cell_type": "markdown",
      "metadata": {
        "id": "BIAMWnP93h7m"
      },
      "source": [
        "- сумма числа машин `car_cnt` в таблице `models` не совпадает с суммой числа машин `car_cnt` в таблице `partners`, хотя ни там, ни там дубликатов по ключам нет. Аналогичная ситуация с `car_sticker_cnt`. Будем использовать значения из таблицы `models`."
      ]
    },
    {
      "cell_type": "code",
      "metadata": {
        "id": "TasMAbOt312Z",
        "outputId": "da0e9c99-3a17-4d4b-8f79-813b573cf7f9",
        "colab": {
          "base_uri": "https://localhost:8080/"
        }
      },
      "source": [
        "df_models['car_cnt'].sum(), df_partners['car_cnt'].sum()"
      ],
      "execution_count": 10,
      "outputs": [
        {
          "output_type": "execute_result",
          "data": {
            "text/plain": [
              "(33893, 41016)"
            ]
          },
          "metadata": {
            "tags": []
          },
          "execution_count": 10
        }
      ]
    },
    {
      "cell_type": "markdown",
      "metadata": {
        "id": "-Vfb8-Mv49Tc"
      },
      "source": [
        "# Что оптимизируем"
      ]
    },
    {
      "cell_type": "markdown",
      "metadata": {
        "id": "_zWv7zxe5mn7"
      },
      "source": [
        "Посчитаем долю обклееных машин."
      ]
    },
    {
      "cell_type": "code",
      "metadata": {
        "id": "X_zpc94hr21h",
        "outputId": "c1f387bb-a405-4607-9542-96d3119a42ac",
        "colab": {
          "base_uri": "https://localhost:8080/"
        }
      },
      "source": [
        "df_models['car_sticker_cnt'].sum() / df_models['car_cnt'].sum()"
      ],
      "execution_count": 11,
      "outputs": [
        {
          "output_type": "execute_result",
          "data": {
            "text/plain": [
              "0.14902782285427668"
            ]
          },
          "metadata": {
            "tags": []
          },
          "execution_count": 11
        }
      ]
    },
    {
      "cell_type": "markdown",
      "metadata": {
        "id": "KcYHEuOj5wp3"
      },
      "source": [
        "И долю машин, которые текущий классификатор позволяет обклеить."
      ]
    },
    {
      "cell_type": "code",
      "metadata": {
        "id": "dbV2Bb6D2cKN",
        "outputId": "3856863e-7d30-451f-de3a-88e16564953c",
        "colab": {
          "base_uri": "https://localhost:8080/"
        }
      },
      "source": [
        "df_models['car_cnt'][df_models['can_be_branded']].sum() / df_models['car_cnt'].sum()"
      ],
      "execution_count": 12,
      "outputs": [
        {
          "output_type": "execute_result",
          "data": {
            "text/plain": [
              "0.7902221697695689"
            ]
          },
          "metadata": {
            "tags": []
          },
          "execution_count": 12
        }
      ]
    },
    {
      "cell_type": "markdown",
      "metadata": {
        "id": "y3W7B3YC6FyK"
      },
      "source": [
        "И долю обклеенных машин среди машин, которые текущий классификатор позволяет обклеить"
      ]
    },
    {
      "cell_type": "code",
      "metadata": {
        "id": "o_Q6zbvjsKGr",
        "outputId": "5346d684-0e64-4c66-b1f2-d3ebfed3b0f0",
        "colab": {
          "base_uri": "https://localhost:8080/"
        }
      },
      "source": [
        "df_models['car_sticker_cnt'][df_models['can_be_branded']].sum() / df_models['car_cnt'][df_models['can_be_branded']].sum()"
      ],
      "execution_count": 13,
      "outputs": [
        {
          "output_type": "execute_result",
          "data": {
            "text/plain": [
              "0.17765000186685584"
            ]
          },
          "metadata": {
            "tags": []
          },
          "execution_count": 13
        }
      ]
    },
    {
      "cell_type": "markdown",
      "metadata": {
        "id": "JGIshhno6RxM"
      },
      "source": [
        "И поинтересуемся текущими статистиками второй основной метрики -- defect rate -- среди этих трех групп"
      ]
    },
    {
      "cell_type": "code",
      "metadata": {
        "id": "GvKHTiIa5Kww"
      },
      "source": [
        "df_models = calc_stats_models(df_models)"
      ],
      "execution_count": 14,
      "outputs": []
    },
    {
      "cell_type": "code",
      "metadata": {
        "id": "LsTO_yGv0GtJ",
        "outputId": "f1901f40-c505-4d6b-8764-9fc48a04a778",
        "colab": {
          "base_uri": "https://localhost:8080/",
          "height": 512
        }
      },
      "source": [
        "plot_defect_rate_hist(df_models)"
      ],
      "execution_count": 15,
      "outputs": [
        {
          "output_type": "display_data",
          "data": {
            "image/png": "[encoded data removed]",
            "text/plain": [
              "<Figure size 1080x540 with 2 Axes>"
            ]
          },
          "metadata": {
            "tags": []
          }
        }
      ]
    },
    {
      "cell_type": "code",
      "metadata": {
        "id": "VnnHRxUTxOY9",
        "outputId": "a1b67f51-9659-433b-f6a7-65f2d0a30dd6",
        "colab": {
          "base_uri": "https://localhost:8080/"
        }
      },
      "source": [
        "df_models['car_cnt'][df_models['can_be_branded']].sum() / df_models['car_cnt'].sum()"
      ],
      "execution_count": 18,
      "outputs": [
        {
          "output_type": "execute_result",
          "data": {
            "text/plain": [
              "0.7902221697695689"
            ]
          },
          "metadata": {
            "tags": []
          },
          "execution_count": 18
        }
      ]
    },
    {
      "cell_type": "code",
      "metadata": {
        "id": "s091SJ9m1zE5",
        "outputId": "18b0b4d7-0174-4bec-cc9c-4ce6eb33f599",
        "colab": {
          "base_uri": "https://localhost:8080/",
          "height": 67,
          "referenced_widgets": [
            "3e8f952f1bb24ff2a26f97bcdda63835",
            "ea575e8efcd24f15a52e9747cb0ba75f",
            "29d7b416ccfb40c1acb456228cdbd6bc",
            "363901e39f6142a7a14eff6c887eb86f",
            "90e44c3a7e694ec99fafeb3ccfcc82ec",
            "9ba56be60b684812b4a3ea0594cb73fd",
            "12d4ca43476a4ad3bbf187944074066a",
            "d169a2bb0f9742179f4103930760dbb6"
          ]
        }
      },
      "source": [
        "import numpy as np\n",
        "\n",
        "threshold_values = np.arange(0, 0.1, 0.001)\n",
        "p_sticking = df_models['car_sticker_cnt'][df_models['can_be_branded']].sum() / df_models['car_cnt'][df_models['can_be_branded']].sum()\n",
        "\n",
        "stats = gridsearch_defect_ratio_threshold(df_models, p_sticking, threshold_values)"
      ],
      "execution_count": 22,
      "outputs": [
        {
          "output_type": "display_data",
          "data": {
            "application/vnd.jupyter.widget-view+json": {
              "model_id": "3e8f952f1bb24ff2a26f97bcdda63835",
              "version_minor": 0,
              "version_major": 2
            },
            "text/plain": [
              "HBox(children=(FloatProgress(value=0.0), HTML(value='')))"
            ]
          },
          "metadata": {
            "tags": []
          }
        },
        {
          "output_type": "stream",
          "text": [
            "\n"
          ],
          "name": "stdout"
        }
      ]
    },
    {
      "cell_type": "code",
      "metadata": {
        "id": "YqDNaSrqLPwr",
        "outputId": "5359133e-1326-4f44-fa9e-73f75f310866",
        "colab": {
          "base_uri": "https://localhost:8080/",
          "height": 627
        }
      },
      "source": [
        "current_share = df_models['car_cnt'][df_models['can_be_branded']].sum() / df_models['car_cnt'].sum()\n",
        "current_defect_ratio = (\n",
        "    df_models['defect_ratio'][df_models['can_be_branded']] * \n",
        "    df_models['car_sticker_cnt'][df_models['can_be_branded']]\n",
        ").sum() / df_models['car_sticker_cnt'][df_models['can_be_branded']].sum()\n",
        "\n",
        "plot_stats(current_share, current_defect_ratio, stats)"
      ],
      "execution_count": 23,
      "outputs": [
        {
          "output_type": "display_data",
          "data": {
            "image/png": "[encoded data removed]",
            "text/plain": [
              "<Figure size 540x720 with 2 Axes>"
            ]
          },
          "metadata": {
            "tags": []
          }
        }
      ]
    },
    {
      "cell_type": "code",
      "metadata": {
        "id": "BR9K61D5SBRv",
        "outputId": "5078f7d3-8514-412e-a123-7eaf26e4190a",
        "colab": {
          "base_uri": "https://localhost:8080/",
          "height": 301
        }
      },
      "source": [
        "plot_defect_ratios(stats, current_defect_ratio, zoom=True)"
      ],
      "execution_count": 24,
      "outputs": [
        {
          "output_type": "display_data",
          "data": {
            "image/png": "[encoded data removed]",
            "text/plain": [
              "<Figure size 432x288 with 1 Axes>"
            ]
          },
          "metadata": {
            "tags": []
          }
        }
      ]
    },
    {
      "cell_type": "code",
      "metadata": {
        "id": "O2VS2TKKva5T",
        "outputId": "5b05d060-2432-4811-c8b1-6c1317484a95",
        "colab": {
          "base_uri": "https://localhost:8080/",
          "height": 512
        }
      },
      "source": [
        "df_models = clf_by_defect_ratio(df_models, p_sticking, defect_ratio_threshold=current_defect_ratio)\n",
        "plot_defect_rate_hist(df_models, clf_postfix='_new')"
      ],
      "execution_count": 25,
      "outputs": [
        {
          "output_type": "display_data",
          "data": {
            "image/png": "[encoded data removed]",
            "text/plain": [
              "<Figure size 1080x540 with 2 Axes>"
            ]
          },
          "metadata": {
            "tags": []
          }
        }
      ]
    },
    {
      "cell_type": "markdown",
      "metadata": {
        "id": "YYtnw854uE4u"
      },
      "source": [
        "Таким образом, будем классифицировать машины по пороговому значению deffect rate в ~0.022 для старых партнеров. Для новых партнеров / машин будем использовать пороговое значение выше ~0.025 для того, чтобы не просадить SoV."
      ]
    },
    {
      "cell_type": "markdown",
      "metadata": {
        "id": "gLcrN_PcuI8h"
      },
      "source": [
        "# Внедрение"
      ]
    },
    {
      "cell_type": "markdown",
      "metadata": {
        "id": "soakfqcduMFQ"
      },
      "source": [
        "Стратегия внедрения прделагается следующая:\n",
        "- применим новый классификатор на существующих машинах и партнерах, не снимая при этом оклейку с уже брендированных машин. \n",
        "- ожидаем роста SoV и снижения DR\n",
        "- для новых партнеров просто будем использовать новый классификатор с другим значением порога."
      ]
    }
  ]
}